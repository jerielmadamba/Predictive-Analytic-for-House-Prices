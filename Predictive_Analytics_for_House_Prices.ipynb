{
  "nbformat": 4,
  "nbformat_minor": 0,
  "metadata": {
    "colab": {
      "provenance": []
    },
    "kernelspec": {
      "name": "python3",
      "display_name": "Python 3"
    },
    "language_info": {
      "name": "python"
    }
  },
  "cells": [
    {
      "cell_type": "markdown",
      "source": [
        "1. The file BostonHousing.csv contains information collected by the US Bureau of the Census concerning housing in the area of Boston, Massachusetts. The dataset includes information on 506 census housing tracts in the Boston area. The goal is to predict the median house price in new tracts based on information such as crime rate, pollution, and number of rooms. The dataset contains 13 predictors, and the outcome variable is the median house price (MEDV)."
      ],
      "metadata": {
        "id": "xFhHt99XSD6s"
      }
    },
    {
      "cell_type": "markdown",
      "source": [
        "Import libraries"
      ],
      "metadata": {
        "id": "7r7S1HL_Vchr"
      }
    },
    {
      "cell_type": "code",
      "source": [
        "%matplotlib inline\n",
        "import math\n",
        "from pathlib import Path\n",
        "import pandas as pd\n",
        "from sklearn.model_selection import train_test_split\n",
        "from sklearn.linear_model import LinearRegression\n",
        "from sklearn.metrics import accuracy_score, roc_curve, auc\n",
        "import matplotlib.pylab as plt\n",
        "import numpy as np\n",
        "import seaborn as sns\n",
        "\n",
        "\n",
        "!pip install scikit-plot\n",
        "import scikitplot as skplt\n",
        "!pip install dmba\n",
        "from dmba import regressionSummary, classificationSummary, liftChart, gainsChart\n",
        "from dmba import regressionSummary, exhaustive_search\n",
        "from dmba import backward_elimination, forward_selection, stepwise_selection\n",
        "from dmba import adjusted_r2_score, AIC_score, BIC_score"
      ],
      "metadata": {
        "colab": {
          "base_uri": "https://localhost:8080/"
        },
        "id": "V1YgUWO0VhKB",
        "outputId": "36b65c3d-d129-43f0-c9bb-4db34a606ad5"
      },
      "execution_count": null,
      "outputs": [
        {
          "output_type": "stream",
          "name": "stdout",
          "text": [
            "Looking in indexes: https://pypi.org/simple, https://us-python.pkg.dev/colab-wheels/public/simple/\n",
            "Requirement already satisfied: scikit-plot in /usr/local/lib/python3.8/dist-packages (0.3.7)\n",
            "Requirement already satisfied: scipy>=0.9 in /usr/local/lib/python3.8/dist-packages (from scikit-plot) (1.7.3)\n",
            "Requirement already satisfied: matplotlib>=1.4.0 in /usr/local/lib/python3.8/dist-packages (from scikit-plot) (3.2.2)\n",
            "Requirement already satisfied: joblib>=0.10 in /usr/local/lib/python3.8/dist-packages (from scikit-plot) (1.2.0)\n",
            "Requirement already satisfied: scikit-learn>=0.18 in /usr/local/lib/python3.8/dist-packages (from scikit-plot) (1.0.2)\n",
            "Requirement already satisfied: cycler>=0.10 in /usr/local/lib/python3.8/dist-packages (from matplotlib>=1.4.0->scikit-plot) (0.11.0)\n",
            "Requirement already satisfied: pyparsing!=2.0.4,!=2.1.2,!=2.1.6,>=2.0.1 in /usr/local/lib/python3.8/dist-packages (from matplotlib>=1.4.0->scikit-plot) (3.0.9)\n",
            "Requirement already satisfied: python-dateutil>=2.1 in /usr/local/lib/python3.8/dist-packages (from matplotlib>=1.4.0->scikit-plot) (2.8.2)\n",
            "Requirement already satisfied: numpy>=1.11 in /usr/local/lib/python3.8/dist-packages (from matplotlib>=1.4.0->scikit-plot) (1.21.6)\n",
            "Requirement already satisfied: kiwisolver>=1.0.1 in /usr/local/lib/python3.8/dist-packages (from matplotlib>=1.4.0->scikit-plot) (1.4.4)\n",
            "Requirement already satisfied: threadpoolctl>=2.0.0 in /usr/local/lib/python3.8/dist-packages (from scikit-learn>=0.18->scikit-plot) (3.1.0)\n",
            "Requirement already satisfied: six>=1.5 in /usr/local/lib/python3.8/dist-packages (from python-dateutil>=2.1->matplotlib>=1.4.0->scikit-plot) (1.15.0)\n",
            "Looking in indexes: https://pypi.org/simple, https://us-python.pkg.dev/colab-wheels/public/simple/\n",
            "Requirement already satisfied: dmba in /usr/local/lib/python3.8/dist-packages (0.1.0)\n"
          ]
        }
      ]
    },
    {
      "cell_type": "markdown",
      "source": [
        "Data Exploration"
      ],
      "metadata": {
        "id": "o65O3t_MVtkT"
      }
    },
    {
      "cell_type": "code",
      "source": [
        "bh_df = pd.read_csv(\"BostonHousing.csv\")"
      ],
      "metadata": {
        "id": "nPcglhPMVxsn"
      },
      "execution_count": null,
      "outputs": []
    },
    {
      "cell_type": "code",
      "source": [
        "bh_df.shape"
      ],
      "metadata": {
        "colab": {
          "base_uri": "https://localhost:8080/"
        },
        "id": "z9T0r8wMWCl3",
        "outputId": "7d268b7c-ba09-4c49-8b55-3f2b71eef46e"
      },
      "execution_count": null,
      "outputs": [
        {
          "output_type": "execute_result",
          "data": {
            "text/plain": [
              "(506, 14)"
            ]
          },
          "metadata": {},
          "execution_count": 3
        }
      ]
    },
    {
      "cell_type": "code",
      "source": [
        "bh_df.head()"
      ],
      "metadata": {
        "colab": {
          "base_uri": "https://localhost:8080/",
          "height": 206
        },
        "id": "AJVyrIeLWOzY",
        "outputId": "5b137454-73d1-4600-fa32-6e4d8a8b5ece"
      },
      "execution_count": null,
      "outputs": [
        {
          "output_type": "execute_result",
          "data": {
            "text/plain": [
              "      CRIM    ZN  INDUS  CHAS    NOX     RM   AGE     DIS  RAD  TAX  PTRATIO  \\\n",
              "0  0.00632  18.0   2.31     0  0.538  6.575  65.2  4.0900    1  296     15.3   \n",
              "1  0.02731   0.0   7.07     0  0.469  6.421  78.9  4.9671    2  242     17.8   \n",
              "2  0.02729   0.0   7.07     0  0.469  7.185  61.1  4.9671    2  242     17.8   \n",
              "3  0.03237   0.0   2.18     0  0.458  6.998  45.8  6.0622    3  222     18.7   \n",
              "4  0.06905   0.0   2.18     0  0.458  7.147  54.2  6.0622    3  222     18.7   \n",
              "\n",
              "   LSTAT  MEDV  CAT. MEDV  \n",
              "0   4.98  24.0          0  \n",
              "1   9.14  21.6          0  \n",
              "2   4.03  34.7          1  \n",
              "3   2.94  33.4          1  \n",
              "4   5.33  36.2          1  "
            ],
            "text/html": [
              "\n",
              "  <div id=\"df-d01902ba-ee3f-411e-8f2b-d50ab3ccf631\">\n",
              "    <div class=\"colab-df-container\">\n",
              "      <div>\n",
              "<style scoped>\n",
              "    .dataframe tbody tr th:only-of-type {\n",
              "        vertical-align: middle;\n",
              "    }\n",
              "\n",
              "    .dataframe tbody tr th {\n",
              "        vertical-align: top;\n",
              "    }\n",
              "\n",
              "    .dataframe thead th {\n",
              "        text-align: right;\n",
              "    }\n",
              "</style>\n",
              "<table border=\"1\" class=\"dataframe\">\n",
              "  <thead>\n",
              "    <tr style=\"text-align: right;\">\n",
              "      <th></th>\n",
              "      <th>CRIM</th>\n",
              "      <th>ZN</th>\n",
              "      <th>INDUS</th>\n",
              "      <th>CHAS</th>\n",
              "      <th>NOX</th>\n",
              "      <th>RM</th>\n",
              "      <th>AGE</th>\n",
              "      <th>DIS</th>\n",
              "      <th>RAD</th>\n",
              "      <th>TAX</th>\n",
              "      <th>PTRATIO</th>\n",
              "      <th>LSTAT</th>\n",
              "      <th>MEDV</th>\n",
              "      <th>CAT. MEDV</th>\n",
              "    </tr>\n",
              "  </thead>\n",
              "  <tbody>\n",
              "    <tr>\n",
              "      <th>0</th>\n",
              "      <td>0.00632</td>\n",
              "      <td>18.0</td>\n",
              "      <td>2.31</td>\n",
              "      <td>0</td>\n",
              "      <td>0.538</td>\n",
              "      <td>6.575</td>\n",
              "      <td>65.2</td>\n",
              "      <td>4.0900</td>\n",
              "      <td>1</td>\n",
              "      <td>296</td>\n",
              "      <td>15.3</td>\n",
              "      <td>4.98</td>\n",
              "      <td>24.0</td>\n",
              "      <td>0</td>\n",
              "    </tr>\n",
              "    <tr>\n",
              "      <th>1</th>\n",
              "      <td>0.02731</td>\n",
              "      <td>0.0</td>\n",
              "      <td>7.07</td>\n",
              "      <td>0</td>\n",
              "      <td>0.469</td>\n",
              "      <td>6.421</td>\n",
              "      <td>78.9</td>\n",
              "      <td>4.9671</td>\n",
              "      <td>2</td>\n",
              "      <td>242</td>\n",
              "      <td>17.8</td>\n",
              "      <td>9.14</td>\n",
              "      <td>21.6</td>\n",
              "      <td>0</td>\n",
              "    </tr>\n",
              "    <tr>\n",
              "      <th>2</th>\n",
              "      <td>0.02729</td>\n",
              "      <td>0.0</td>\n",
              "      <td>7.07</td>\n",
              "      <td>0</td>\n",
              "      <td>0.469</td>\n",
              "      <td>7.185</td>\n",
              "      <td>61.1</td>\n",
              "      <td>4.9671</td>\n",
              "      <td>2</td>\n",
              "      <td>242</td>\n",
              "      <td>17.8</td>\n",
              "      <td>4.03</td>\n",
              "      <td>34.7</td>\n",
              "      <td>1</td>\n",
              "    </tr>\n",
              "    <tr>\n",
              "      <th>3</th>\n",
              "      <td>0.03237</td>\n",
              "      <td>0.0</td>\n",
              "      <td>2.18</td>\n",
              "      <td>0</td>\n",
              "      <td>0.458</td>\n",
              "      <td>6.998</td>\n",
              "      <td>45.8</td>\n",
              "      <td>6.0622</td>\n",
              "      <td>3</td>\n",
              "      <td>222</td>\n",
              "      <td>18.7</td>\n",
              "      <td>2.94</td>\n",
              "      <td>33.4</td>\n",
              "      <td>1</td>\n",
              "    </tr>\n",
              "    <tr>\n",
              "      <th>4</th>\n",
              "      <td>0.06905</td>\n",
              "      <td>0.0</td>\n",
              "      <td>2.18</td>\n",
              "      <td>0</td>\n",
              "      <td>0.458</td>\n",
              "      <td>7.147</td>\n",
              "      <td>54.2</td>\n",
              "      <td>6.0622</td>\n",
              "      <td>3</td>\n",
              "      <td>222</td>\n",
              "      <td>18.7</td>\n",
              "      <td>5.33</td>\n",
              "      <td>36.2</td>\n",
              "      <td>1</td>\n",
              "    </tr>\n",
              "  </tbody>\n",
              "</table>\n",
              "</div>\n",
              "      <button class=\"colab-df-convert\" onclick=\"convertToInteractive('df-d01902ba-ee3f-411e-8f2b-d50ab3ccf631')\"\n",
              "              title=\"Convert this dataframe to an interactive table.\"\n",
              "              style=\"display:none;\">\n",
              "        \n",
              "  <svg xmlns=\"http://www.w3.org/2000/svg\" height=\"24px\"viewBox=\"0 0 24 24\"\n",
              "       width=\"24px\">\n",
              "    <path d=\"M0 0h24v24H0V0z\" fill=\"none\"/>\n",
              "    <path d=\"M18.56 5.44l.94 2.06.94-2.06 2.06-.94-2.06-.94-.94-2.06-.94 2.06-2.06.94zm-11 1L8.5 8.5l.94-2.06 2.06-.94-2.06-.94L8.5 2.5l-.94 2.06-2.06.94zm10 10l.94 2.06.94-2.06 2.06-.94-2.06-.94-.94-2.06-.94 2.06-2.06.94z\"/><path d=\"M17.41 7.96l-1.37-1.37c-.4-.4-.92-.59-1.43-.59-.52 0-1.04.2-1.43.59L10.3 9.45l-7.72 7.72c-.78.78-.78 2.05 0 2.83L4 21.41c.39.39.9.59 1.41.59.51 0 1.02-.2 1.41-.59l7.78-7.78 2.81-2.81c.8-.78.8-2.07 0-2.86zM5.41 20L4 18.59l7.72-7.72 1.47 1.35L5.41 20z\"/>\n",
              "  </svg>\n",
              "      </button>\n",
              "      \n",
              "  <style>\n",
              "    .colab-df-container {\n",
              "      display:flex;\n",
              "      flex-wrap:wrap;\n",
              "      gap: 12px;\n",
              "    }\n",
              "\n",
              "    .colab-df-convert {\n",
              "      background-color: #E8F0FE;\n",
              "      border: none;\n",
              "      border-radius: 50%;\n",
              "      cursor: pointer;\n",
              "      display: none;\n",
              "      fill: #1967D2;\n",
              "      height: 32px;\n",
              "      padding: 0 0 0 0;\n",
              "      width: 32px;\n",
              "    }\n",
              "\n",
              "    .colab-df-convert:hover {\n",
              "      background-color: #E2EBFA;\n",
              "      box-shadow: 0px 1px 2px rgba(60, 64, 67, 0.3), 0px 1px 3px 1px rgba(60, 64, 67, 0.15);\n",
              "      fill: #174EA6;\n",
              "    }\n",
              "\n",
              "    [theme=dark] .colab-df-convert {\n",
              "      background-color: #3B4455;\n",
              "      fill: #D2E3FC;\n",
              "    }\n",
              "\n",
              "    [theme=dark] .colab-df-convert:hover {\n",
              "      background-color: #434B5C;\n",
              "      box-shadow: 0px 1px 3px 1px rgba(0, 0, 0, 0.15);\n",
              "      filter: drop-shadow(0px 1px 2px rgba(0, 0, 0, 0.3));\n",
              "      fill: #FFFFFF;\n",
              "    }\n",
              "  </style>\n",
              "\n",
              "      <script>\n",
              "        const buttonEl =\n",
              "          document.querySelector('#df-d01902ba-ee3f-411e-8f2b-d50ab3ccf631 button.colab-df-convert');\n",
              "        buttonEl.style.display =\n",
              "          google.colab.kernel.accessAllowed ? 'block' : 'none';\n",
              "\n",
              "        async function convertToInteractive(key) {\n",
              "          const element = document.querySelector('#df-d01902ba-ee3f-411e-8f2b-d50ab3ccf631');\n",
              "          const dataTable =\n",
              "            await google.colab.kernel.invokeFunction('convertToInteractive',\n",
              "                                                     [key], {});\n",
              "          if (!dataTable) return;\n",
              "\n",
              "          const docLinkHtml = 'Like what you see? Visit the ' +\n",
              "            '<a target=\"_blank\" href=https://colab.research.google.com/notebooks/data_table.ipynb>data table notebook</a>'\n",
              "            + ' to learn more about interactive tables.';\n",
              "          element.innerHTML = '';\n",
              "          dataTable['output_type'] = 'display_data';\n",
              "          await google.colab.output.renderOutput(dataTable, element);\n",
              "          const docLink = document.createElement('div');\n",
              "          docLink.innerHTML = docLinkHtml;\n",
              "          element.appendChild(docLink);\n",
              "        }\n",
              "      </script>\n",
              "    </div>\n",
              "  </div>\n",
              "  "
            ]
          },
          "metadata": {},
          "execution_count": 4
        }
      ]
    },
    {
      "cell_type": "code",
      "source": [
        "bh_df.columns"
      ],
      "metadata": {
        "colab": {
          "base_uri": "https://localhost:8080/"
        },
        "id": "RgVwC6EeWuLc",
        "outputId": "64c369d4-91cc-41f5-9ae4-5a37de1a5d08"
      },
      "execution_count": null,
      "outputs": [
        {
          "output_type": "execute_result",
          "data": {
            "text/plain": [
              "Index(['CRIM', 'ZN', 'INDUS', 'CHAS', 'NOX', 'RM', 'AGE', 'DIS', 'RAD', 'TAX',\n",
              "       'PTRATIO', 'LSTAT', 'MEDV', 'CAT. MEDV'],\n",
              "      dtype='object')"
            ]
          },
          "metadata": {},
          "execution_count": 5
        }
      ]
    },
    {
      "cell_type": "markdown",
      "source": [
        "### a. Why should the data be partitioned into training and validation sets? What will the training set be used for? What will the validation set be used for?"
      ],
      "metadata": {
        "id": "6kT_O4hRUTv3"
      }
    },
    {
      "cell_type": "markdown",
      "source": [
        "To avoid overfitting, data should be divided into training and validation sets. The model is trained, which enables it to discover the relationships and patterns in the data. The validation set is used to assess the model's performance during training.\n",
        "<br>\n",
        "<br>\n",
        "<br>"
      ],
      "metadata": {
        "id": "--N2rgJkEv2R"
      }
    },
    {
      "cell_type": "markdown",
      "source": [
        "###b. Fit a multiple linear regression model to the median house price (MEDV) as a function of CRIM, CHAS, and RM. Write the equation for predicting the median house price from the predictors in the model."
      ],
      "metadata": {
        "id": "-QDTGlaBUbqp"
      }
    },
    {
      "cell_type": "code",
      "source": [
        "variables = ['CRIM', 'CHAS', 'RM']\n",
        "outcome = 'MEDV'"
      ],
      "metadata": {
        "id": "1xTLgpouUfy9"
      },
      "execution_count": null,
      "outputs": []
    },
    {
      "cell_type": "code",
      "source": [
        "x = bh_df[variables]\n",
        "y = bh_df[outcome]"
      ],
      "metadata": {
        "id": "ZkQ5FnLIXG9J"
      },
      "execution_count": null,
      "outputs": []
    },
    {
      "cell_type": "code",
      "source": [
        "x.head()"
      ],
      "metadata": {
        "colab": {
          "base_uri": "https://localhost:8080/",
          "height": 206
        },
        "id": "niFJ92kdXQZj",
        "outputId": "b59b0c70-469f-48a7-ae13-199fcb49d425"
      },
      "execution_count": null,
      "outputs": [
        {
          "output_type": "execute_result",
          "data": {
            "text/plain": [
              "      CRIM  CHAS     RM\n",
              "0  0.00632     0  6.575\n",
              "1  0.02731     0  6.421\n",
              "2  0.02729     0  7.185\n",
              "3  0.03237     0  6.998\n",
              "4  0.06905     0  7.147"
            ],
            "text/html": [
              "\n",
              "  <div id=\"df-38521566-f599-4b57-9732-9e91b810e574\">\n",
              "    <div class=\"colab-df-container\">\n",
              "      <div>\n",
              "<style scoped>\n",
              "    .dataframe tbody tr th:only-of-type {\n",
              "        vertical-align: middle;\n",
              "    }\n",
              "\n",
              "    .dataframe tbody tr th {\n",
              "        vertical-align: top;\n",
              "    }\n",
              "\n",
              "    .dataframe thead th {\n",
              "        text-align: right;\n",
              "    }\n",
              "</style>\n",
              "<table border=\"1\" class=\"dataframe\">\n",
              "  <thead>\n",
              "    <tr style=\"text-align: right;\">\n",
              "      <th></th>\n",
              "      <th>CRIM</th>\n",
              "      <th>CHAS</th>\n",
              "      <th>RM</th>\n",
              "    </tr>\n",
              "  </thead>\n",
              "  <tbody>\n",
              "    <tr>\n",
              "      <th>0</th>\n",
              "      <td>0.00632</td>\n",
              "      <td>0</td>\n",
              "      <td>6.575</td>\n",
              "    </tr>\n",
              "    <tr>\n",
              "      <th>1</th>\n",
              "      <td>0.02731</td>\n",
              "      <td>0</td>\n",
              "      <td>6.421</td>\n",
              "    </tr>\n",
              "    <tr>\n",
              "      <th>2</th>\n",
              "      <td>0.02729</td>\n",
              "      <td>0</td>\n",
              "      <td>7.185</td>\n",
              "    </tr>\n",
              "    <tr>\n",
              "      <th>3</th>\n",
              "      <td>0.03237</td>\n",
              "      <td>0</td>\n",
              "      <td>6.998</td>\n",
              "    </tr>\n",
              "    <tr>\n",
              "      <th>4</th>\n",
              "      <td>0.06905</td>\n",
              "      <td>0</td>\n",
              "      <td>7.147</td>\n",
              "    </tr>\n",
              "  </tbody>\n",
              "</table>\n",
              "</div>\n",
              "      <button class=\"colab-df-convert\" onclick=\"convertToInteractive('df-38521566-f599-4b57-9732-9e91b810e574')\"\n",
              "              title=\"Convert this dataframe to an interactive table.\"\n",
              "              style=\"display:none;\">\n",
              "        \n",
              "  <svg xmlns=\"http://www.w3.org/2000/svg\" height=\"24px\"viewBox=\"0 0 24 24\"\n",
              "       width=\"24px\">\n",
              "    <path d=\"M0 0h24v24H0V0z\" fill=\"none\"/>\n",
              "    <path d=\"M18.56 5.44l.94 2.06.94-2.06 2.06-.94-2.06-.94-.94-2.06-.94 2.06-2.06.94zm-11 1L8.5 8.5l.94-2.06 2.06-.94-2.06-.94L8.5 2.5l-.94 2.06-2.06.94zm10 10l.94 2.06.94-2.06 2.06-.94-2.06-.94-.94-2.06-.94 2.06-2.06.94z\"/><path d=\"M17.41 7.96l-1.37-1.37c-.4-.4-.92-.59-1.43-.59-.52 0-1.04.2-1.43.59L10.3 9.45l-7.72 7.72c-.78.78-.78 2.05 0 2.83L4 21.41c.39.39.9.59 1.41.59.51 0 1.02-.2 1.41-.59l7.78-7.78 2.81-2.81c.8-.78.8-2.07 0-2.86zM5.41 20L4 18.59l7.72-7.72 1.47 1.35L5.41 20z\"/>\n",
              "  </svg>\n",
              "      </button>\n",
              "      \n",
              "  <style>\n",
              "    .colab-df-container {\n",
              "      display:flex;\n",
              "      flex-wrap:wrap;\n",
              "      gap: 12px;\n",
              "    }\n",
              "\n",
              "    .colab-df-convert {\n",
              "      background-color: #E8F0FE;\n",
              "      border: none;\n",
              "      border-radius: 50%;\n",
              "      cursor: pointer;\n",
              "      display: none;\n",
              "      fill: #1967D2;\n",
              "      height: 32px;\n",
              "      padding: 0 0 0 0;\n",
              "      width: 32px;\n",
              "    }\n",
              "\n",
              "    .colab-df-convert:hover {\n",
              "      background-color: #E2EBFA;\n",
              "      box-shadow: 0px 1px 2px rgba(60, 64, 67, 0.3), 0px 1px 3px 1px rgba(60, 64, 67, 0.15);\n",
              "      fill: #174EA6;\n",
              "    }\n",
              "\n",
              "    [theme=dark] .colab-df-convert {\n",
              "      background-color: #3B4455;\n",
              "      fill: #D2E3FC;\n",
              "    }\n",
              "\n",
              "    [theme=dark] .colab-df-convert:hover {\n",
              "      background-color: #434B5C;\n",
              "      box-shadow: 0px 1px 3px 1px rgba(0, 0, 0, 0.15);\n",
              "      filter: drop-shadow(0px 1px 2px rgba(0, 0, 0, 0.3));\n",
              "      fill: #FFFFFF;\n",
              "    }\n",
              "  </style>\n",
              "\n",
              "      <script>\n",
              "        const buttonEl =\n",
              "          document.querySelector('#df-38521566-f599-4b57-9732-9e91b810e574 button.colab-df-convert');\n",
              "        buttonEl.style.display =\n",
              "          google.colab.kernel.accessAllowed ? 'block' : 'none';\n",
              "\n",
              "        async function convertToInteractive(key) {\n",
              "          const element = document.querySelector('#df-38521566-f599-4b57-9732-9e91b810e574');\n",
              "          const dataTable =\n",
              "            await google.colab.kernel.invokeFunction('convertToInteractive',\n",
              "                                                     [key], {});\n",
              "          if (!dataTable) return;\n",
              "\n",
              "          const docLinkHtml = 'Like what you see? Visit the ' +\n",
              "            '<a target=\"_blank\" href=https://colab.research.google.com/notebooks/data_table.ipynb>data table notebook</a>'\n",
              "            + ' to learn more about interactive tables.';\n",
              "          element.innerHTML = '';\n",
              "          dataTable['output_type'] = 'display_data';\n",
              "          await google.colab.output.renderOutput(dataTable, element);\n",
              "          const docLink = document.createElement('div');\n",
              "          docLink.innerHTML = docLinkHtml;\n",
              "          element.appendChild(docLink);\n",
              "        }\n",
              "      </script>\n",
              "    </div>\n",
              "  </div>\n",
              "  "
            ]
          },
          "metadata": {},
          "execution_count": 8
        }
      ]
    },
    {
      "cell_type": "code",
      "source": [
        "y.head()"
      ],
      "metadata": {
        "colab": {
          "base_uri": "https://localhost:8080/"
        },
        "id": "DqsVpX9OXTlN",
        "outputId": "f129a7e2-ac9e-47c6-eb4b-5bf30e8e8de6"
      },
      "execution_count": null,
      "outputs": [
        {
          "output_type": "execute_result",
          "data": {
            "text/plain": [
              "0    24.0\n",
              "1    21.6\n",
              "2    34.7\n",
              "3    33.4\n",
              "4    36.2\n",
              "Name: MEDV, dtype: float64"
            ]
          },
          "metadata": {},
          "execution_count": 9
        }
      ]
    },
    {
      "cell_type": "code",
      "source": [
        "train_x, valid_x, train_y, valid_y = train_test_split(x, y, test_size= .40, random_state=1)\n",
        "print(\"train x  = \", train_x.shape)\n",
        "print(\"valid x  = \", valid_x.shape)\n",
        "print(\"train y  = \", train_y.shape)\n",
        "print(\"valid y  = \", valid_y.shape)"
      ],
      "metadata": {
        "colab": {
          "base_uri": "https://localhost:8080/"
        },
        "id": "9pcrGkIUXrK1",
        "outputId": "5f32bcb1-6702-4c2b-a6ed-79603fddf1d4"
      },
      "execution_count": null,
      "outputs": [
        {
          "output_type": "stream",
          "name": "stdout",
          "text": [
            "train x  =  (303, 3)\n",
            "valid x  =  (203, 3)\n",
            "train y  =  (303,)\n",
            "valid y  =  (203,)\n"
          ]
        }
      ]
    },
    {
      "cell_type": "code",
      "source": [
        "bh_lm = LinearRegression()\n",
        "bh_lm.fit(train_x, train_y)\n",
        "\n",
        "print(\"Intercept:\", bh_lm.intercept_)\n",
        "print(\"coefficient:\", bh_lm.coef_)"
      ],
      "metadata": {
        "id": "yJbeOEsvXuSE",
        "colab": {
          "base_uri": "https://localhost:8080/"
        },
        "outputId": "112811ea-9515-40e3-c2e4-04411b024116"
      },
      "execution_count": null,
      "outputs": [
        {
          "output_type": "stream",
          "name": "stdout",
          "text": [
            "Intercept: -29.193467430606834\n",
            "coefficient: [-0.24006218  3.26681728  8.3251753 ]\n"
          ]
        }
      ]
    },
    {
      "cell_type": "markdown",
      "source": [
        "The regression equation is<br>\n",
        "MEDV = Intercept + coefficient1* CRIM + coefficent2* CHAS + coefficient3* RM<br>\n",
        "### = -29.193467430606834 + (-0.24006218 * CRIM) + (3.26681728 * CHAS) + (8.3251753 * RM)\n",
        "<br>\n",
        "<br>"
      ],
      "metadata": {
        "id": "eNJHy95oa40D"
      }
    },
    {
      "cell_type": "markdown",
      "source": [
        "###c. Using the estimated regression model, what median house price is predicted for a tract in the Boston area that does not bound the Charles River, has a crime rate of 0.1, and where the average number of rooms per house is 6?"
      ],
      "metadata": {
        "id": "y1UShpqfUgld"
      }
    },
    {
      "cell_type": "markdown",
      "source": [
        "MEDV = Intercept + coefficient1* CRIM + coefficent2* CHAS + coefficient3* RM<br>\n",
        "= -29.193467430606834 + (-0.24006218 * 0.1) + (3.26681728 * 0) + (8.3251753 * 6)<br>\n",
        "The Median house price = $20.73"
      ],
      "metadata": {
        "id": "8k3oZ66RbWgV"
      }
    },
    {
      "cell_type": "code",
      "source": [
        "# manual calculation\n",
        "print(round(-29.193467430606834 + (-0.24006218 * 0.1) + (3.26681728 * 0) + (8.3251753 * 6),2))"
      ],
      "metadata": {
        "colab": {
          "base_uri": "https://localhost:8080/"
        },
        "id": "k_m4H1ZUDevI",
        "outputId": "8997b18d-3c71-4a35-cf29-f2d347237ddd"
      },
      "execution_count": null,
      "outputs": [
        {
          "output_type": "stream",
          "name": "stdout",
          "text": [
            "20.73\n"
          ]
        }
      ]
    },
    {
      "cell_type": "code",
      "source": [
        "# direct calculation for checking\n",
        "print(\"The MEDV is: \",(bh_lm.predict(\n",
        "                        pd.DataFrame({\"CRIM\":\"0.1\", \"CHAS\":\"0\", \"RM\":\"6\"}, index=[0]))\n",
        "                        ))"
      ],
      "metadata": {
        "colab": {
          "base_uri": "https://localhost:8080/"
        },
        "id": "p3b-qo2l2frI",
        "outputId": "03c5a7f5-9139-4a62-c36d-f207044641e9"
      },
      "execution_count": null,
      "outputs": [
        {
          "output_type": "stream",
          "name": "stdout",
          "text": [
            "The MEDV is:  [20.73357813]\n"
          ]
        }
      ]
    },
    {
      "cell_type": "markdown",
      "source": [
        "###d. Which predictors are likely to be measuring the same thing among the predictors? Hypothesize the three relationships among INDUS, NOX, and TAX.  "
      ],
      "metadata": {
        "id": "acv21-53UmSl"
      }
    },
    {
      "cell_type": "code",
      "source": [
        "# re-arrange column to see INDUS, NOX, and TAX on the lower right\n",
        "rearrange = ['CRIM', 'ZN', 'CHAS', 'RM', 'AGE', 'DIS', 'RAD','PTRATIO',\n",
        "    'LSTAT', 'CAT. MEDV','MEDV','INDUS','NOX','TAX']"
      ],
      "metadata": {
        "id": "cu5FC1_XJlSq"
      },
      "execution_count": null,
      "outputs": []
    },
    {
      "cell_type": "code",
      "source": [
        "bh_rearrange= bh_df[rearrange]"
      ],
      "metadata": {
        "id": "FafJEza2J327"
      },
      "execution_count": null,
      "outputs": []
    },
    {
      "cell_type": "code",
      "source": [
        "plt.figure(figsize=(10,5))\n",
        "sns.heatmap(bh_rearrange.corr(), annot=True, fmt='.2f', cmap='RdYlGn')\n",
        "plt.show()"
      ],
      "metadata": {
        "colab": {
          "base_uri": "https://localhost:8080/",
          "height": 367
        },
        "id": "gQZSB42-_en4",
        "outputId": "2fd14434-9ced-4199-d210-4e4eea8284d8"
      },
      "execution_count": null,
      "outputs": [
        {
          "output_type": "display_data",
          "data": {
            "text/plain": [
              "<Figure size 720x360 with 2 Axes>"
            ],
            "image/png": "[encoded data removed]"
          },
          "metadata": {
            "needs_background": "light"
          }
        }
      ]
    },
    {
      "cell_type": "markdown",
      "source": [
        "There are high positive correlation between INDUS, NOX, and Tax, as you can see on <br>\n",
        "the on the lower right side of the plot. <br>\n",
        "<br>\n",
        "The predictors whom which might be measuring the same thing are:<br>\n",
        "PREDICTORS    = COEFFICIENT<br>\n",
        "AGE : DIS     =   0.75<br>\n",
        "AGE : NOX     =   0.93<br>\n",
        "DIS : INDUS   =  -0.71<br>\n",
        "DIS: NOX      =  -0.77<br>\n",
        "RAD : TAX     =   0.91<br>\n",
        "INDUS : NOX   =   0.76<br>\n",
        "INDUS : TAX   =   0.72<br>\n",
        "TAX : NOX     =   0.67<br>"
      ],
      "metadata": {
        "id": "Kefo9Fn9KQqn"
      }
    },
    {
      "cell_type": "markdown",
      "source": [
        "###e. Compute the correlation table for the numerical variables and search for highly correlated pairs. These have potential redundancy and can cause multicollinearity. Choose which ones to remove based on this table."
      ],
      "metadata": {
        "id": "dw8mCpgBUsGt"
      }
    },
    {
      "cell_type": "code",
      "source": [
        "bh_rearrange.corr()"
      ],
      "metadata": {
        "colab": {
          "base_uri": "https://localhost:8080/",
          "height": 488
        },
        "id": "RylERbtlFYm1",
        "outputId": "7da5b649-d503-432f-c9a0-bbd2df1372bb"
      },
      "execution_count": null,
      "outputs": [
        {
          "output_type": "execute_result",
          "data": {
            "text/plain": [
              "               CRIM        ZN      CHAS        RM       AGE       DIS  \\\n",
              "CRIM       1.000000 -0.200469 -0.055892 -0.219247  0.352734 -0.379670   \n",
              "ZN        -0.200469  1.000000 -0.042697  0.311991 -0.569537  0.664408   \n",
              "CHAS      -0.055892 -0.042697  1.000000  0.091251  0.086518 -0.099176   \n",
              "RM        -0.219247  0.311991  0.091251  1.000000 -0.240265  0.205246   \n",
              "AGE        0.352734 -0.569537  0.086518 -0.240265  1.000000 -0.747881   \n",
              "DIS       -0.379670  0.664408 -0.099176  0.205246 -0.747881  1.000000   \n",
              "RAD        0.625505 -0.311948 -0.007368 -0.209847  0.456022 -0.494588   \n",
              "PTRATIO    0.289946 -0.391679 -0.121515 -0.355501  0.261515 -0.232471   \n",
              "LSTAT      0.455621 -0.412995 -0.053929 -0.613808  0.602339 -0.496996   \n",
              "CAT. MEDV -0.151987  0.365296  0.108631  0.641265 -0.191196  0.118887   \n",
              "MEDV      -0.388305  0.360445  0.175260  0.695360 -0.376955  0.249929   \n",
              "INDUS      0.406583 -0.533828  0.062938 -0.391676  0.644779 -0.708027   \n",
              "NOX        0.420972 -0.516604  0.091203 -0.302188  0.731470 -0.769230   \n",
              "TAX        0.582764 -0.314563 -0.035587 -0.292048  0.506456 -0.534432   \n",
              "\n",
              "                RAD   PTRATIO     LSTAT  CAT. MEDV      MEDV     INDUS  \\\n",
              "CRIM       0.625505  0.289946  0.455621  -0.151987 -0.388305  0.406583   \n",
              "ZN        -0.311948 -0.391679 -0.412995   0.365296  0.360445 -0.533828   \n",
              "CHAS      -0.007368 -0.121515 -0.053929   0.108631  0.175260  0.062938   \n",
              "RM        -0.209847 -0.355501 -0.613808   0.641265  0.695360 -0.391676   \n",
              "AGE        0.456022  0.261515  0.602339  -0.191196 -0.376955  0.644779   \n",
              "DIS       -0.494588 -0.232471 -0.496996   0.118887  0.249929 -0.708027   \n",
              "RAD        1.000000  0.464741  0.488676  -0.197924 -0.381626  0.595129   \n",
              "PTRATIO    0.464741  1.000000  0.374044  -0.443425 -0.507787  0.383248   \n",
              "LSTAT      0.488676  0.374044  1.000000  -0.469911 -0.737663  0.603800   \n",
              "CAT. MEDV -0.197924 -0.443425 -0.469911   1.000000  0.789789 -0.366276   \n",
              "MEDV      -0.381626 -0.507787 -0.737663   0.789789  1.000000 -0.483725   \n",
              "INDUS      0.595129  0.383248  0.603800  -0.366276 -0.483725  1.000000   \n",
              "NOX        0.611441  0.188933  0.590879  -0.232502 -0.427321  0.763651   \n",
              "TAX        0.910228  0.460853  0.543993  -0.273687 -0.468536  0.720760   \n",
              "\n",
              "                NOX       TAX  \n",
              "CRIM       0.420972  0.582764  \n",
              "ZN        -0.516604 -0.314563  \n",
              "CHAS       0.091203 -0.035587  \n",
              "RM        -0.302188 -0.292048  \n",
              "AGE        0.731470  0.506456  \n",
              "DIS       -0.769230 -0.534432  \n",
              "RAD        0.611441  0.910228  \n",
              "PTRATIO    0.188933  0.460853  \n",
              "LSTAT      0.590879  0.543993  \n",
              "CAT. MEDV -0.232502 -0.273687  \n",
              "MEDV      -0.427321 -0.468536  \n",
              "INDUS      0.763651  0.720760  \n",
              "NOX        1.000000  0.668023  \n",
              "TAX        0.668023  1.000000  "
            ],
            "text/html": [
              "\n",
              "  <div id=\"df-7124b33b-9abd-4776-9f9b-7dfb99d5fb37\">\n",
              "    <div class=\"colab-df-container\">\n",
              "      <div>\n",
              "<style scoped>\n",
              "    .dataframe tbody tr th:only-of-type {\n",
              "        vertical-align: middle;\n",
              "    }\n",
              "\n",
              "    .dataframe tbody tr th {\n",
              "        vertical-align: top;\n",
              "    }\n",
              "\n",
              "    .dataframe thead th {\n",
              "        text-align: right;\n",
              "    }\n",
              "</style>\n",
              "<table border=\"1\" class=\"dataframe\">\n",
              "  <thead>\n",
              "    <tr style=\"text-align: right;\">\n",
              "      <th></th>\n",
              "      <th>CRIM</th>\n",
              "      <th>ZN</th>\n",
              "      <th>CHAS</th>\n",
              "      <th>RM</th>\n",
              "      <th>AGE</th>\n",
              "      <th>DIS</th>\n",
              "      <th>RAD</th>\n",
              "      <th>PTRATIO</th>\n",
              "      <th>LSTAT</th>\n",
              "      <th>CAT. MEDV</th>\n",
              "      <th>MEDV</th>\n",
              "      <th>INDUS</th>\n",
              "      <th>NOX</th>\n",
              "      <th>TAX</th>\n",
              "    </tr>\n",
              "  </thead>\n",
              "  <tbody>\n",
              "    <tr>\n",
              "      <th>CRIM</th>\n",
              "      <td>1.000000</td>\n",
              "      <td>-0.200469</td>\n",
              "      <td>-0.055892</td>\n",
              "      <td>-0.219247</td>\n",
              "      <td>0.352734</td>\n",
              "      <td>-0.379670</td>\n",
              "      <td>0.625505</td>\n",
              "      <td>0.289946</td>\n",
              "      <td>0.455621</td>\n",
              "      <td>-0.151987</td>\n",
              "      <td>-0.388305</td>\n",
              "      <td>0.406583</td>\n",
              "      <td>0.420972</td>\n",
              "      <td>0.582764</td>\n",
              "    </tr>\n",
              "    <tr>\n",
              "      <th>ZN</th>\n",
              "      <td>-0.200469</td>\n",
              "      <td>1.000000</td>\n",
              "      <td>-0.042697</td>\n",
              "      <td>0.311991</td>\n",
              "      <td>-0.569537</td>\n",
              "      <td>0.664408</td>\n",
              "      <td>-0.311948</td>\n",
              "      <td>-0.391679</td>\n",
              "      <td>-0.412995</td>\n",
              "      <td>0.365296</td>\n",
              "      <td>0.360445</td>\n",
              "      <td>-0.533828</td>\n",
              "      <td>-0.516604</td>\n",
              "      <td>-0.314563</td>\n",
              "    </tr>\n",
              "    <tr>\n",
              "      <th>CHAS</th>\n",
              "      <td>-0.055892</td>\n",
              "      <td>-0.042697</td>\n",
              "      <td>1.000000</td>\n",
              "      <td>0.091251</td>\n",
              "      <td>0.086518</td>\n",
              "      <td>-0.099176</td>\n",
              "      <td>-0.007368</td>\n",
              "      <td>-0.121515</td>\n",
              "      <td>-0.053929</td>\n",
              "      <td>0.108631</td>\n",
              "      <td>0.175260</td>\n",
              "      <td>0.062938</td>\n",
              "      <td>0.091203</td>\n",
              "      <td>-0.035587</td>\n",
              "    </tr>\n",
              "    <tr>\n",
              "      <th>RM</th>\n",
              "      <td>-0.219247</td>\n",
              "      <td>0.311991</td>\n",
              "      <td>0.091251</td>\n",
              "      <td>1.000000</td>\n",
              "      <td>-0.240265</td>\n",
              "      <td>0.205246</td>\n",
              "      <td>-0.209847</td>\n",
              "      <td>-0.355501</td>\n",
              "      <td>-0.613808</td>\n",
              "      <td>0.641265</td>\n",
              "      <td>0.695360</td>\n",
              "      <td>-0.391676</td>\n",
              "      <td>-0.302188</td>\n",
              "      <td>-0.292048</td>\n",
              "    </tr>\n",
              "    <tr>\n",
              "      <th>AGE</th>\n",
              "      <td>0.352734</td>\n",
              "      <td>-0.569537</td>\n",
              "      <td>0.086518</td>\n",
              "      <td>-0.240265</td>\n",
              "      <td>1.000000</td>\n",
              "      <td>-0.747881</td>\n",
              "      <td>0.456022</td>\n",
              "      <td>0.261515</td>\n",
              "      <td>0.602339</td>\n",
              "      <td>-0.191196</td>\n",
              "      <td>-0.376955</td>\n",
              "      <td>0.644779</td>\n",
              "      <td>0.731470</td>\n",
              "      <td>0.506456</td>\n",
              "    </tr>\n",
              "    <tr>\n",
              "      <th>DIS</th>\n",
              "      <td>-0.379670</td>\n",
              "      <td>0.664408</td>\n",
              "      <td>-0.099176</td>\n",
              "      <td>0.205246</td>\n",
              "      <td>-0.747881</td>\n",
              "      <td>1.000000</td>\n",
              "      <td>-0.494588</td>\n",
              "      <td>-0.232471</td>\n",
              "      <td>-0.496996</td>\n",
              "      <td>0.118887</td>\n",
              "      <td>0.249929</td>\n",
              "      <td>-0.708027</td>\n",
              "      <td>-0.769230</td>\n",
              "      <td>-0.534432</td>\n",
              "    </tr>\n",
              "    <tr>\n",
              "      <th>RAD</th>\n",
              "      <td>0.625505</td>\n",
              "      <td>-0.311948</td>\n",
              "      <td>-0.007368</td>\n",
              "      <td>-0.209847</td>\n",
              "      <td>0.456022</td>\n",
              "      <td>-0.494588</td>\n",
              "      <td>1.000000</td>\n",
              "      <td>0.464741</td>\n",
              "      <td>0.488676</td>\n",
              "      <td>-0.197924</td>\n",
              "      <td>-0.381626</td>\n",
              "      <td>0.595129</td>\n",
              "      <td>0.611441</td>\n",
              "      <td>0.910228</td>\n",
              "    </tr>\n",
              "    <tr>\n",
              "      <th>PTRATIO</th>\n",
              "      <td>0.289946</td>\n",
              "      <td>-0.391679</td>\n",
              "      <td>-0.121515</td>\n",
              "      <td>-0.355501</td>\n",
              "      <td>0.261515</td>\n",
              "      <td>-0.232471</td>\n",
              "      <td>0.464741</td>\n",
              "      <td>1.000000</td>\n",
              "      <td>0.374044</td>\n",
              "      <td>-0.443425</td>\n",
              "      <td>-0.507787</td>\n",
              "      <td>0.383248</td>\n",
              "      <td>0.188933</td>\n",
              "      <td>0.460853</td>\n",
              "    </tr>\n",
              "    <tr>\n",
              "      <th>LSTAT</th>\n",
              "      <td>0.455621</td>\n",
              "      <td>-0.412995</td>\n",
              "      <td>-0.053929</td>\n",
              "      <td>-0.613808</td>\n",
              "      <td>0.602339</td>\n",
              "      <td>-0.496996</td>\n",
              "      <td>0.488676</td>\n",
              "      <td>0.374044</td>\n",
              "      <td>1.000000</td>\n",
              "      <td>-0.469911</td>\n",
              "      <td>-0.737663</td>\n",
              "      <td>0.603800</td>\n",
              "      <td>0.590879</td>\n",
              "      <td>0.543993</td>\n",
              "    </tr>\n",
              "    <tr>\n",
              "      <th>CAT. MEDV</th>\n",
              "      <td>-0.151987</td>\n",
              "      <td>0.365296</td>\n",
              "      <td>0.108631</td>\n",
              "      <td>0.641265</td>\n",
              "      <td>-0.191196</td>\n",
              "      <td>0.118887</td>\n",
              "      <td>-0.197924</td>\n",
              "      <td>-0.443425</td>\n",
              "      <td>-0.469911</td>\n",
              "      <td>1.000000</td>\n",
              "      <td>0.789789</td>\n",
              "      <td>-0.366276</td>\n",
              "      <td>-0.232502</td>\n",
              "      <td>-0.273687</td>\n",
              "    </tr>\n",
              "    <tr>\n",
              "      <th>MEDV</th>\n",
              "      <td>-0.388305</td>\n",
              "      <td>0.360445</td>\n",
              "      <td>0.175260</td>\n",
              "      <td>0.695360</td>\n",
              "      <td>-0.376955</td>\n",
              "      <td>0.249929</td>\n",
              "      <td>-0.381626</td>\n",
              "      <td>-0.507787</td>\n",
              "      <td>-0.737663</td>\n",
              "      <td>0.789789</td>\n",
              "      <td>1.000000</td>\n",
              "      <td>-0.483725</td>\n",
              "      <td>-0.427321</td>\n",
              "      <td>-0.468536</td>\n",
              "    </tr>\n",
              "    <tr>\n",
              "      <th>INDUS</th>\n",
              "      <td>0.406583</td>\n",
              "      <td>-0.533828</td>\n",
              "      <td>0.062938</td>\n",
              "      <td>-0.391676</td>\n",
              "      <td>0.644779</td>\n",
              "      <td>-0.708027</td>\n",
              "      <td>0.595129</td>\n",
              "      <td>0.383248</td>\n",
              "      <td>0.603800</td>\n",
              "      <td>-0.366276</td>\n",
              "      <td>-0.483725</td>\n",
              "      <td>1.000000</td>\n",
              "      <td>0.763651</td>\n",
              "      <td>0.720760</td>\n",
              "    </tr>\n",
              "    <tr>\n",
              "      <th>NOX</th>\n",
              "      <td>0.420972</td>\n",
              "      <td>-0.516604</td>\n",
              "      <td>0.091203</td>\n",
              "      <td>-0.302188</td>\n",
              "      <td>0.731470</td>\n",
              "      <td>-0.769230</td>\n",
              "      <td>0.611441</td>\n",
              "      <td>0.188933</td>\n",
              "      <td>0.590879</td>\n",
              "      <td>-0.232502</td>\n",
              "      <td>-0.427321</td>\n",
              "      <td>0.763651</td>\n",
              "      <td>1.000000</td>\n",
              "      <td>0.668023</td>\n",
              "    </tr>\n",
              "    <tr>\n",
              "      <th>TAX</th>\n",
              "      <td>0.582764</td>\n",
              "      <td>-0.314563</td>\n",
              "      <td>-0.035587</td>\n",
              "      <td>-0.292048</td>\n",
              "      <td>0.506456</td>\n",
              "      <td>-0.534432</td>\n",
              "      <td>0.910228</td>\n",
              "      <td>0.460853</td>\n",
              "      <td>0.543993</td>\n",
              "      <td>-0.273687</td>\n",
              "      <td>-0.468536</td>\n",
              "      <td>0.720760</td>\n",
              "      <td>0.668023</td>\n",
              "      <td>1.000000</td>\n",
              "    </tr>\n",
              "  </tbody>\n",
              "</table>\n",
              "</div>\n",
              "      <button class=\"colab-df-convert\" onclick=\"convertToInteractive('df-7124b33b-9abd-4776-9f9b-7dfb99d5fb37')\"\n",
              "              title=\"Convert this dataframe to an interactive table.\"\n",
              "              style=\"display:none;\">\n",
              "        \n",
              "  <svg xmlns=\"http://www.w3.org/2000/svg\" height=\"24px\"viewBox=\"0 0 24 24\"\n",
              "       width=\"24px\">\n",
              "    <path d=\"M0 0h24v24H0V0z\" fill=\"none\"/>\n",
              "    <path d=\"M18.56 5.44l.94 2.06.94-2.06 2.06-.94-2.06-.94-.94-2.06-.94 2.06-2.06.94zm-11 1L8.5 8.5l.94-2.06 2.06-.94-2.06-.94L8.5 2.5l-.94 2.06-2.06.94zm10 10l.94 2.06.94-2.06 2.06-.94-2.06-.94-.94-2.06-.94 2.06-2.06.94z\"/><path d=\"M17.41 7.96l-1.37-1.37c-.4-.4-.92-.59-1.43-.59-.52 0-1.04.2-1.43.59L10.3 9.45l-7.72 7.72c-.78.78-.78 2.05 0 2.83L4 21.41c.39.39.9.59 1.41.59.51 0 1.02-.2 1.41-.59l7.78-7.78 2.81-2.81c.8-.78.8-2.07 0-2.86zM5.41 20L4 18.59l7.72-7.72 1.47 1.35L5.41 20z\"/>\n",
              "  </svg>\n",
              "      </button>\n",
              "      \n",
              "  <style>\n",
              "    .colab-df-container {\n",
              "      display:flex;\n",
              "      flex-wrap:wrap;\n",
              "      gap: 12px;\n",
              "    }\n",
              "\n",
              "    .colab-df-convert {\n",
              "      background-color: #E8F0FE;\n",
              "      border: none;\n",
              "      border-radius: 50%;\n",
              "      cursor: pointer;\n",
              "      display: none;\n",
              "      fill: #1967D2;\n",
              "      height: 32px;\n",
              "      padding: 0 0 0 0;\n",
              "      width: 32px;\n",
              "    }\n",
              "\n",
              "    .colab-df-convert:hover {\n",
              "      background-color: #E2EBFA;\n",
              "      box-shadow: 0px 1px 2px rgba(60, 64, 67, 0.3), 0px 1px 3px 1px rgba(60, 64, 67, 0.15);\n",
              "      fill: #174EA6;\n",
              "    }\n",
              "\n",
              "    [theme=dark] .colab-df-convert {\n",
              "      background-color: #3B4455;\n",
              "      fill: #D2E3FC;\n",
              "    }\n",
              "\n",
              "    [theme=dark] .colab-df-convert:hover {\n",
              "      background-color: #434B5C;\n",
              "      box-shadow: 0px 1px 3px 1px rgba(0, 0, 0, 0.15);\n",
              "      filter: drop-shadow(0px 1px 2px rgba(0, 0, 0, 0.3));\n",
              "      fill: #FFFFFF;\n",
              "    }\n",
              "  </style>\n",
              "\n",
              "      <script>\n",
              "        const buttonEl =\n",
              "          document.querySelector('#df-7124b33b-9abd-4776-9f9b-7dfb99d5fb37 button.colab-df-convert');\n",
              "        buttonEl.style.display =\n",
              "          google.colab.kernel.accessAllowed ? 'block' : 'none';\n",
              "\n",
              "        async function convertToInteractive(key) {\n",
              "          const element = document.querySelector('#df-7124b33b-9abd-4776-9f9b-7dfb99d5fb37');\n",
              "          const dataTable =\n",
              "            await google.colab.kernel.invokeFunction('convertToInteractive',\n",
              "                                                     [key], {});\n",
              "          if (!dataTable) return;\n",
              "\n",
              "          const docLinkHtml = 'Like what you see? Visit the ' +\n",
              "            '<a target=\"_blank\" href=https://colab.research.google.com/notebooks/data_table.ipynb>data table notebook</a>'\n",
              "            + ' to learn more about interactive tables.';\n",
              "          element.innerHTML = '';\n",
              "          dataTable['output_type'] = 'display_data';\n",
              "          await google.colab.output.renderOutput(dataTable, element);\n",
              "          const docLink = document.createElement('div');\n",
              "          docLink.innerHTML = docLinkHtml;\n",
              "          element.appendChild(docLink);\n",
              "        }\n",
              "      </script>\n",
              "    </div>\n",
              "  </div>\n",
              "  "
            ]
          },
          "metadata": {},
          "execution_count": 17
        }
      ]
    },
    {
      "cell_type": "code",
      "source": [
        "plt.figure(figsize=(10,5))\n",
        "sns.heatmap(bh_rearrange.corr(), annot=True, fmt='.1f', cmap='RdYlGn')\n",
        "plt.show()"
      ],
      "metadata": {
        "colab": {
          "base_uri": "https://localhost:8080/",
          "height": 367
        },
        "id": "hh68nSPp7rc-",
        "outputId": "64a557b5-bd27-4c1d-d88b-252b8738d8ff"
      },
      "execution_count": null,
      "outputs": [
        {
          "output_type": "display_data",
          "data": {
            "text/plain": [
              "<Figure size 720x360 with 2 Axes>"
            ],
            "image/png": "[encoded data removed]"
          },
          "metadata": {
            "needs_background": "light"
          }
        }
      ]
    },
    {
      "cell_type": "markdown",
      "source": [
        "Using the pairs of correlation above [Question D]. I would be removing DIS, AGE, TAX, and INDUS, as these predictors have the lowest correlation compared to the target MEDV. <br>\n",
        "\n",
        "I would be removing CAT.MEDV as well as the value is related or dependent on the price, which may end up to having two targets.\n",
        "<br>\n",
        "<br>"
      ],
      "metadata": {
        "id": "aEpXj4u8M03J"
      }
    },
    {
      "cell_type": "markdown",
      "source": [
        "###f. Use two subset selection algorithms: backward and forward to reduce the remaining predictors. Compute the validation performance for both of the selected models. Compare RMSE, MAPE, and mean error, as well as histograms of the errors. Finally, describe the best model."
      ],
      "metadata": {
        "id": "5ERLKNQyUvtL"
      }
    },
    {
      "cell_type": "markdown",
      "source": [
        "Full Regression"
      ],
      "metadata": {
        "id": "kGW7SCS0V8ZC"
      }
    },
    {
      "cell_type": "code",
      "source": [
        "excluded_columns = (\"DIS\",\"AGE\",\"TAX\",\"INDUS\",\"MEDV\", \"CAT. MEDV\")\n",
        "predictors = [s for s in bh_df.columns if s not in excluded_columns]\n",
        "\n",
        "outcome = 'MEDV'\n",
        "\n",
        "# partition data\n",
        "x2 = pd.get_dummies(bh_df[predictors], drop_first=True)\n",
        "y2 = bh_df[outcome]\n"
      ],
      "metadata": {
        "id": "FNoX0GylYiJf"
      },
      "execution_count": null,
      "outputs": []
    },
    {
      "cell_type": "code",
      "source": [
        "train_x2, valid_x2, train_y2, valid_y2 = train_test_split(x2, y2, test_size=0.4, random_state=1)"
      ],
      "metadata": {
        "id": "rjl4qU8BZofM"
      },
      "execution_count": null,
      "outputs": []
    },
    {
      "cell_type": "code",
      "source": [
        "bh_lm_2 = LinearRegression()\n",
        "bh_lm_2.fit(train_x2, train_y2)"
      ],
      "metadata": {
        "colab": {
          "base_uri": "https://localhost:8080/"
        },
        "id": "3kbBlcYwZC13",
        "outputId": "94738322-91ba-4148-83fb-44e75370adbe"
      },
      "execution_count": null,
      "outputs": [
        {
          "output_type": "execute_result",
          "data": {
            "text/plain": [
              "LinearRegression()"
            ]
          },
          "metadata": {},
          "execution_count": 21
        }
      ]
    },
    {
      "cell_type": "code",
      "source": [
        "print(\"Intercept:\", bh_lm_2.intercept_)\n",
        "print(\"coefficient:\", bh_lm_2.coef_)"
      ],
      "metadata": {
        "colab": {
          "base_uri": "https://localhost:8080/"
        },
        "id": "Ci1edNnDZby-",
        "outputId": "478a7336-190b-47ca-a1aa-89645a17bba2"
      },
      "execution_count": null,
      "outputs": [
        {
          "output_type": "stream",
          "name": "stdout",
          "text": [
            "Intercept: 25.557118860088433\n",
            "coefficient: [-7.93415848e-02 -1.93682893e-03  3.07145259e+00 -9.31004455e+00\n",
            "  4.02033474e+00  1.08369892e-01 -9.73216169e-01 -4.88795113e-01]\n"
          ]
        }
      ]
    },
    {
      "cell_type": "code",
      "source": [
        "# print coefficients\n",
        "print('intercept ', bh_lm_2.intercept_)\n",
        "print(pd.DataFrame({'Predictor': x2.columns, \"coefficient\": bh_lm_2.coef_}))\n",
        "\n",
        "# print performance measures\n",
        "regressionSummary(train_y2, bh_lm_2.predict(train_x2))"
      ],
      "metadata": {
        "colab": {
          "base_uri": "https://localhost:8080/"
        },
        "id": "hRW5cxiKV8FM",
        "outputId": "6ad73a03-16d9-40bf-9881-f967c2ec4bb5"
      },
      "execution_count": null,
      "outputs": [
        {
          "output_type": "stream",
          "name": "stdout",
          "text": [
            "intercept  25.557118860088433\n",
            "  Predictor  coefficient\n",
            "0      CRIM    -0.079342\n",
            "1        ZN    -0.001937\n",
            "2      CHAS     3.071453\n",
            "3       NOX    -9.310045\n",
            "4        RM     4.020335\n",
            "5       RAD     0.108370\n",
            "6   PTRATIO    -0.973216\n",
            "7     LSTAT    -0.488795\n",
            "\n",
            "Regression statistics\n",
            "\n",
            "                      Mean Error (ME) : -0.0000\n",
            "       Root Mean Squared Error (RMSE) : 4.8432\n",
            "            Mean Absolute Error (MAE) : 3.3075\n",
            "          Mean Percentage Error (MPE) : -3.8186\n",
            "Mean Absolute Percentage Error (MAPE) : 17.3342\n"
          ]
        }
      ]
    },
    {
      "cell_type": "code",
      "source": [
        "pred_y2 = bh_lm_2.predict(train_x2)\n",
        "\n",
        "print('adjusted r2 : ', adjusted_r2_score(train_y2, pred_y2, bh_lm_2))\n",
        "print('AIC : ', AIC_score(train_y2, pred_y2, bh_lm_2))\n",
        "print('BIC : ', BIC_score(train_y2, pred_y2, bh_lm_2))"
      ],
      "metadata": {
        "colab": {
          "base_uri": "https://localhost:8080/"
        },
        "id": "MI7WIOVxVjfA",
        "outputId": "c9c5c6f9-da09-40e6-c731-6e2fe666eb4c"
      },
      "execution_count": null,
      "outputs": [
        {
          "output_type": "stream",
          "name": "stdout",
          "text": [
            "adjusted r2 :  0.6989314576057903\n",
            "AIC :  1835.8872867791056\n",
            "BIC :  1873.0246148341994\n"
          ]
        }
      ]
    },
    {
      "cell_type": "markdown",
      "source": [
        "Validation Statistic"
      ],
      "metadata": {
        "id": "Q9vU990xWlrD"
      }
    },
    {
      "cell_type": "code",
      "source": [
        "bh_lm_pred = bh_lm_2.predict(valid_x2)\n",
        "\n",
        "result = pd.DataFrame({'Predicted': bh_lm_pred, 'Actual': valid_y2,\n",
        "                       'Residual': valid_y2 - bh_lm_pred})\n",
        "print(result.head(20))\n",
        "\n",
        "# Compute common accuracy measures\n",
        "regressionSummary(valid_y2, bh_lm_pred)"
      ],
      "metadata": {
        "colab": {
          "base_uri": "https://localhost:8080/"
        },
        "id": "ll1VP6QrWlXj",
        "outputId": "be799cdc-d093-4248-c686-56c54da98ea2"
      },
      "execution_count": null,
      "outputs": [
        {
          "output_type": "stream",
          "name": "stdout",
          "text": [
            "     Predicted  Actual   Residual\n",
            "307  27.801006    28.2   0.398994\n",
            "343  27.766371    23.9  -3.866371\n",
            "47   19.325839    16.6  -2.725839\n",
            "67   23.432488    22.0  -1.432488\n",
            "362  17.614672    20.8   3.185328\n",
            "132  19.684304    23.0   3.315696\n",
            "292  27.678087    27.9   0.221913\n",
            "31   18.474354    14.5  -3.974354\n",
            "218  23.246173    21.5  -1.746173\n",
            "90   25.386486    22.6  -2.786486\n",
            "481  26.447175    23.7  -2.747175\n",
            "344  29.737793    31.2   1.462207\n",
            "119  20.168047    19.3  -0.868047\n",
            "66   24.718415    19.4  -5.318415\n",
            "312  21.483791    19.4  -2.083791\n",
            "407  18.032444    27.9   9.867556\n",
            "376  16.410623    13.9  -2.510623\n",
            "225  37.570346    50.0  12.429654\n",
            "201  28.582946    24.1  -4.482946\n",
            "147   8.865761    14.6   5.734239\n",
            "\n",
            "Regression statistics\n",
            "\n",
            "                      Mean Error (ME) : 0.2018\n",
            "       Root Mean Squared Error (RMSE) : 5.4704\n",
            "            Mean Absolute Error (MAE) : 3.9360\n",
            "          Mean Percentage Error (MPE) : -4.5788\n",
            "Mean Absolute Percentage Error (MAPE) : 18.3489\n"
          ]
        }
      ]
    },
    {
      "cell_type": "markdown",
      "source": [
        "Backward Regression"
      ],
      "metadata": {
        "id": "MQVm9ScDUqS2"
      }
    },
    {
      "cell_type": "code",
      "source": [
        "def train_model(variables):\n",
        "    model = LinearRegression()\n",
        "    model.fit(train_x2[variables], train_y2)\n",
        "    return model\n",
        "\n",
        "def score_model(model, variables):\n",
        "    return AIC_score(train_y2, model.predict(train_x2[variables]), model)\n",
        "\n",
        "best_back_model, best_back_variables = backward_elimination(train_x2.columns, train_model, score_model, verbose=True)\n",
        "\n",
        "print(best_back_variables)"
      ],
      "metadata": {
        "id": "4TuYmWCrU5WY",
        "colab": {
          "base_uri": "https://localhost:8080/"
        },
        "outputId": "f54a9fae-8215-4700-d1a1-d5f65d979ef3"
      },
      "execution_count": null,
      "outputs": [
        {
          "output_type": "stream",
          "name": "stdout",
          "text": [
            "Variables: CRIM, ZN, CHAS, NOX, RM, RAD, PTRATIO, LSTAT\n",
            "Start: score=1835.89\n",
            "Step: score=1833.90, remove ZN\n",
            "Step: score=1833.90, remove None\n",
            "['CRIM', 'CHAS', 'NOX', 'RM', 'RAD', 'PTRATIO', 'LSTAT']\n"
          ]
        }
      ]
    },
    {
      "cell_type": "markdown",
      "source": [
        "Forward Regression"
      ],
      "metadata": {
        "id": "bWgep33RXFWn"
      }
    },
    {
      "cell_type": "code",
      "source": [
        "def train_model(variables):\n",
        "    if len(variables) == 0:\n",
        "        return None\n",
        "    model = LinearRegression()\n",
        "    model.fit(train_x2[variables], train_y2)\n",
        "    return model\n",
        "\n",
        "def score_model(model, variables):\n",
        "    if len(variables) == 0:\n",
        "        return AIC_score(train_y2, [train_y2.mean()] * len(train_y2), model, df=1)\n",
        "    return AIC_score(train_y2, model.predict(train_x2[variables]), model)\n",
        "\n",
        "best_forw_model, best_forw_variables = forward_selection(train_x2.columns, train_model, score_model, verbose=True)\n",
        "\n",
        "print(best_forw_variables)"
      ],
      "metadata": {
        "colab": {
          "base_uri": "https://localhost:8080/"
        },
        "id": "Gn3NvOKCXKHB",
        "outputId": "86e8b03e-9b7c-4868-c1c0-e91e8bfc4cd5"
      },
      "execution_count": null,
      "outputs": [
        {
          "output_type": "stream",
          "name": "stdout",
          "text": [
            "Variables: CRIM, ZN, CHAS, NOX, RM, RAD, PTRATIO, LSTAT\n",
            "Start: score=2191.75, constant\n",
            "Step: score=1934.91, add LSTAT\n",
            "Step: score=1874.18, add RM\n",
            "Step: score=1842.54, add PTRATIO\n",
            "Step: score=1837.69, add CHAS\n",
            "Step: score=1835.00, add NOX\n",
            "Step: score=1835.00, add None\n",
            "['LSTAT', 'RM', 'PTRATIO', 'CHAS', 'NOX']\n"
          ]
        }
      ]
    },
    {
      "cell_type": "code",
      "source": [
        "print(\"BACKWARD REGRESSION\")\n",
        "regressionSummary(valid_y2, best_back_model.predict(valid_x2[best_back_variables]))\n",
        "\n",
        "print(\"\")\n",
        "print(\"\")\n",
        "print(\"\")\n",
        "\n",
        "print(\"FORWARD REGRESSION\")\n",
        "regressionSummary(valid_y2, best_forw_model.predict(valid_x2[best_forw_variables]))"
      ],
      "metadata": {
        "colab": {
          "base_uri": "https://localhost:8080/"
        },
        "id": "UsqviKFPbmOY",
        "outputId": "c9259745-3b25-4fd4-bfae-a94ec6590b32"
      },
      "execution_count": null,
      "outputs": [
        {
          "output_type": "stream",
          "name": "stdout",
          "text": [
            "BACKWARD REGRESSION\n",
            "\n",
            "Regression statistics\n",
            "\n",
            "                      Mean Error (ME) : 0.2021\n",
            "       Root Mean Squared Error (RMSE) : 5.4748\n",
            "            Mean Absolute Error (MAE) : 3.9354\n",
            "          Mean Percentage Error (MPE) : -4.5849\n",
            "Mean Absolute Percentage Error (MAPE) : 18.3404\n",
            "\n",
            "\n",
            "\n",
            "FORWARD REGRESSION\n",
            "\n",
            "Regression statistics\n",
            "\n",
            "                      Mean Error (ME) : 0.1860\n",
            "       Root Mean Squared Error (RMSE) : 5.5047\n",
            "            Mean Absolute Error (MAE) : 3.9434\n",
            "          Mean Percentage Error (MPE) : -4.5084\n",
            "Mean Absolute Percentage Error (MAPE) : 18.4374\n"
          ]
        }
      ]
    },
    {
      "cell_type": "markdown",
      "source": [
        "By analyzing the MAPE values for the backward and forward regression models, it can be determined that the backward regression model is better as it has the lowest MAPE and RMSE values of 18.34 and 5.47 respective; however, forward regression has a slightly lower value of 0.18, which is closer to the actual values, as compared to backward regression's value of 0.20.\n",
        "<br>\n",
        "<br>"
      ],
      "metadata": {
        "id": "dMiLB0Idf1j1"
      }
    },
    {
      "cell_type": "code",
      "source": [
        "# get error/residual\n",
        "residual_valid_forw = valid_y2 - best_forw_model.predict(valid_x2[best_forw_variables])\n",
        "residual_train_forw = train_y2 - best_forw_model.predict(train_x2[best_forw_variables])\n",
        "residual_valid_back = valid_y2 - best_forw_model.predict(valid_x2[best_forw_variables])\n",
        "residual_train_back = train_y2 - best_forw_model.predict(train_x2[best_forw_variables])"
      ],
      "metadata": {
        "id": "PnKt4jcHbtD3"
      },
      "execution_count": null,
      "outputs": []
    },
    {
      "cell_type": "code",
      "source": [
        "hist, ax = plt.subplots(nrows=1, ncols =2)\n",
        "hist.set_size_inches(10,5)\n",
        "residual_valid_forw.hist(ax=ax[0])\n",
        "residual_valid_back.hist(ax=ax[1])\n",
        "ax[0].set_title(\"Residual Distribution Validation Forward\")\n",
        "ax[1].set_title(\"Residual Distribution Validation Backward\")"
      ],
      "metadata": {
        "colab": {
          "base_uri": "https://localhost:8080/",
          "height": 354
        },
        "id": "2u5JrKXjfsya",
        "outputId": "49ddcfb4-7766-4137-c389-7d612ccfb664"
      },
      "execution_count": null,
      "outputs": [
        {
          "output_type": "execute_result",
          "data": {
            "text/plain": [
              "Text(0.5, 1.0, 'Residual Distribution Validation Backward')"
            ]
          },
          "metadata": {},
          "execution_count": 39
        },
        {
          "output_type": "display_data",
          "data": {
            "text/plain": [
              "<Figure size 720x360 with 2 Axes>"
            ],
            "image/png": "[encoded data removed]"
          },
          "metadata": {
            "needs_background": "light"
          }
        }
      ]
    },
    {
      "cell_type": "markdown",
      "source": [
        "Both histogram plots appear to have a slight right skewness, and their shapes and distributions are quite similar. This indicates that the majority of the data points are focused on the right side of the plot."
      ],
      "metadata": {
        "id": "ZquTfsxOalvU"
      }
    }
  ]
}